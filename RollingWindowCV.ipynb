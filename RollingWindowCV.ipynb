{
 "cells": [
  {
   "cell_type": "markdown",
   "metadata": {},
   "source": [
    "# Time series Cross Validation (CV) splits\n",
    "> In this notebook some resources and code implementations to   \n",
    "extend sciki-learn splitting methods for CV"
   ]
  },
  {
   "cell_type": "markdown",
   "metadata": {},
   "source": [
    "[Using generators and yelds in Python](https://realpython.com/introduction-to-python-generators/?fbclid=IwAR3MsCOz5lqKm_oOF3F5kmr_y0W2xiBnnZleE9R23aMwtU3CkoOg6tz-wVA)   \n",
    "[Python itertools](https://realpython.com/python-itertools/)   \n",
    "[time-series cross validation walk-forward](https://medium.com/eatpredlove/time-series-cross-validation-a-walk-forward-approach-in-python-8534dd1db51a)   \n",
    "[Cross validation strategies](https://hub.packtpub.com/cross-validation-strategies-for-time-series-forecasting-tutorial/)   "
   ]
  },
  {
   "cell_type": "markdown",
   "metadata": {},
   "source": [
    "Some useful books:   \n",
    "<div style=\"display: inline-block;text-align: left\" >\n",
    "<a href=\"https://github.com/PacktPublishing/Machine-Learning-for-Algorithmic-Trading-Bots-with-Python\">\n",
    "<img src=\"https://www.packtpub.com/media/catalog/product/cache/e4d64343b1bc593f1c5348fe05efa4a6/v/1/v12962_low.png\" width=\"100px\" style=\"display: block; margin:20px auto;\" >\n",
    "</a>\n",
    "\n",
    "<a href=\"https://github.com/PacktPublishing/Hands-On-Machine-Learning-for-Algorithmic-Trading/tree/master/Chapter10\">\n",
    "<img src=\"https://www.packtpub.com/media/catalog/product/cache/e4d64343b1bc593f1c5348fe05efa4a6/b/1/b11166_new.png\" width=\"100px\"  style=\"display: block; margin:20px auto;\">\n",
    "</a>\n",
    "<div>"
   ]
  },
  {
   "cell_type": "markdown",
   "metadata": {},
   "source": [
    "## Import modules"
   ]
  },
  {
   "cell_type": "code",
   "execution_count": 1,
   "metadata": {},
   "outputs": [],
   "source": [
    "import numpy as np\n",
    "import pandas as pd\n",
    "from scipy.ndimage.interpolation import shift\n",
    "import matplotlib.pyplot as plt\n",
    "import seaborn as sns\n",
    "from sklearn.model_selection import (\n",
    "    train_test_split,\n",
    "    KFold,\n",
    "    cross_validate,\n",
    "    TimeSeriesSplit,\n",
    ")\n",
    "from IPython.core.interactiveshell import InteractiveShell\n",
    "\n",
    "InteractiveShell.ast_node_interactivity = \"all\"\n",
    "from IPython.core.debugger import set_trace"
   ]
  },
  {
   "cell_type": "markdown",
   "metadata": {},
   "source": [
    "## CV plotting helper function"
   ]
  },
  {
   "cell_type": "code",
   "execution_count": 2,
   "metadata": {},
   "outputs": [],
   "source": [
    "def plot_cv_indices(cv, X, y, ax, n_splits, lw=10):  #\n",
    "    \"\"\"Create a sample plot for indices of a cross-validation object.\"\"\"\n",
    "\n",
    "    # Generate the training/testing visualizations for each CV split\n",
    "    for ii, (tr, tt) in enumerate(cv.split(X=X, y=None)):\n",
    "        # Fill in indices with the training/test groups\n",
    "        indices = np.array([np.nan] * len(X))\n",
    "        indices[tt] = 1\n",
    "        indices[tr] = 0\n",
    "\n",
    "        # Visualize the results\n",
    "        ax.scatter(\n",
    "            range(len(indices)),\n",
    "            [ii] * len(indices),\n",
    "            c=indices,\n",
    "            marker=\"_\",\n",
    "            lw=lw,\n",
    "            cmap=plt.cm.coolwarm,\n",
    "            vmin=-0.2,\n",
    "            vmax=1.2,\n",
    "        )\n",
    "\n",
    "    # Formatting\n",
    "    ax.set(\n",
    "        yticks=np.arange(n_splits),\n",
    "        xticks=np.arange(len(indices), 1),\n",
    "        xlabel=\"Sample index\",\n",
    "        ylabel=\"CV iteration\",\n",
    "        ylim=[n_splits, -1],\n",
    "    )  # , xlim=[0, 100])\n",
    "    ax.set_title(\"{}\".format(type(cv).__name__), fontsize=15)\n",
    "    return ax"
   ]
  },
  {
   "cell_type": "markdown",
   "metadata": {},
   "source": [
    "## Simple X array to use as example"
   ]
  },
  {
   "cell_type": "code",
   "execution_count": 3,
   "metadata": {},
   "outputs": [
    {
     "name": "stdout",
     "output_type": "stream",
     "text": [
      "X: [ 1  4  7 10 13 16 19 22 25 28 31 34 37 40 43 46 49 52 55 58]\n",
      "\n",
      "Number of samples:20\n"
     ]
    }
   ],
   "source": [
    "X = np.arange(1, 60, 3)\n",
    "print(f\"X: {X}\")\n",
    "n_sample = len(X)\n",
    "print(f\"\\nNumber of samples:{n_sample}\")"
   ]
  },
  {
   "cell_type": "markdown",
   "metadata": {},
   "source": [
    "# Blocking TimeSeries Split \n",
    "from \"Hands-on Machine Learning for Algorithmic Trading Bots with Python\""
   ]
  },
  {
   "cell_type": "code",
   "execution_count": 4,
   "metadata": {},
   "outputs": [],
   "source": [
    "class BlockingTimeSeriesSplit:\n",
    "    def __init__(self, n_splits, waste):\n",
    "        self.n_splits = n_splits\n",
    "        self.waste = waste\n",
    "\n",
    "    def split(self, X, y=None, groups=None):\n",
    "        n_samples = len(X)\n",
    "        k_fold_size = n_samples // self.n_splits\n",
    "        indices = np.arange(n_samples)\n",
    "\n",
    "        waste = self.waste  # 32\n",
    "        for i in range(self.n_splits):\n",
    "            start = i * k_fold_size\n",
    "            stop = start + k_fold_size\n",
    "            mid = int(0.8 * (stop - start)) + start\n",
    "            print(\"Start: \" + str(start) + \" \" + str(mid) + \" stop: \" + str(stop))\n",
    "            yield indices[start:mid], indices[mid + waste : stop]"
   ]
  },
  {
   "cell_type": "markdown",
   "metadata": {},
   "source": [
    "# Roll window\n",
    "> A flexible roll window Cross-Validator useful for scenarios like:\n",
    "* A fixed sized train window (rolling) \n",
    "* Everything that is not in training (even at previous time-steps)"
   ]
  },
  {
   "cell_type": "code",
   "execution_count": 5,
   "metadata": {},
   "outputs": [
    {
     "name": "stdout",
     "output_type": "stream",
     "text": [
      "\n",
      "Train size:3, Period:2, Horizon:None\n",
      "\n",
      "\n",
      "Xtrain: [1 4 7], Xtest: [10 13 16 19 22 25 28 31 34 37 40 43 46 49 52 55 58]\n",
      "Xtrain: [ 7 10 13], Xtest: [ 1  4 16 19 22 25 28 31 34 37 40 43 46 49 52 55 58]\n",
      "Xtrain: [13 16 19], Xtest: [ 1  4  7 10 22 25 28 31 34 37 40 43 46 49 52 55 58]\n",
      "Xtrain: [19 22 25], Xtest: [ 1  4  7 10 13 16 28 31 34 37 40 43 46 49 52 55 58]\n",
      "Xtrain: [25 28 31], Xtest: [ 1  4  7 10 13 16 19 22 34 37 40 43 46 49 52 55 58]\n",
      "Xtrain: [31 34 37], Xtest: [ 1  4  7 10 13 16 19 22 25 28 40 43 46 49 52 55 58]\n",
      "Xtrain: [37 40 43], Xtest: [ 1  4  7 10 13 16 19 22 25 28 31 34 46 49 52 55 58]\n",
      "Xtrain: [43 46 49], Xtest: [ 1  4  7 10 13 16 19 22 25 28 31 34 37 40 52 55 58]\n",
      "Xtrain: [49 52 55], Xtest: [ 1  4  7 10 13 16 19 22 25 28 31 34 37 40 43 46 58]\n",
      "Number splits: 9\n",
      "Number split returned by generator: 9\n"
     ]
    },
    {
     "data": {
      "image/png": "[encoded data removed]",
      "text/plain": [
       "<Figure size 432x288 with 1 Axes>"
      ]
     },
     "metadata": {
      "needs_background": "light"
     },
     "output_type": "display_data"
    }
   ],
   "source": [
    "class RollWindow:\n",
    "    \"\"\" Rolling Window cross-validator\n",
    "    \n",
    "        Provides train/test indices to split data samples\n",
    "        that are observed at fixed time intervals, in train/test sets.\n",
    "        In each split, test indices must be higher than before, \n",
    "        and thus shuffling in cross validator is inappropriate.\n",
    "\n",
    "        Parameters\n",
    "        ----------\n",
    "        train_size : int, required\n",
    "            Length of training set.\n",
    "\n",
    "        shift_step : int, required\n",
    "            Number of step to shift training window at each fold.\n",
    "            If equal to training_size the resulting test sets\n",
    "            do not overlap with training, if greater \n",
    "            \n",
    "        horizon: int, optional\n",
    "            Length of test set(forecasting horizon), If not provided\n",
    "            all data till end of dataset is available as test.\n",
    "        \n",
    "        Return\n",
    "        -------\n",
    "        <genarator object> providing tuples of (Train, Test) indexes\n",
    "        \n",
    "    \"\"\"\n",
    "\n",
    "    def __init__(self, train_size, shift_step, horizon=None):\n",
    "        self.train_size = train_size\n",
    "        self.shift_step = shift_step\n",
    "        self.horizon = horizon if not horizon is None else 0\n",
    "    \n",
    "    def get_n_splits(self, X, y=None, groups=None):\n",
    "        n_samples=len(X)\n",
    "        a = np.arange(n_samples)\n",
    "        b = np.ones(self.train_size + self.horizon)\n",
    "        shift_b = np.ones(self.shift_step)\n",
    "        nsplit = 0\n",
    "        while len(b) < len(a):\n",
    "            b = np.append(b, shift_b)\n",
    "            nsplit += 1\n",
    "        self.n_splits = nsplit\n",
    "\n",
    "        if self.n_splits > n_samples:\n",
    "            raise ValueError(\n",
    "                (\n",
    "                    \"Cannot have number of splits/folds ={0} greater\"\n",
    "                    \" than the number of samples: {1}.\"\n",
    "                ).format(self.n_splits, n_samples)\n",
    "            )\n",
    "        return self.n_splits\n",
    "\n",
    "    def split(self, X, y=None, groups=None):\n",
    "        # define number of sample\n",
    "        n_samples = len(X)\n",
    "        # create an array of indexes\n",
    "        indices = np.arange(n_samples)\n",
    "\n",
    "        # defint initial start and end for training\n",
    "        startTrain = 0\n",
    "        endTrain = self.train_size\n",
    "\n",
    "        # set iteration condition i.e. iterate while\n",
    "        # trainig window + horizon does not reach the end\n",
    "        # of indexes array\n",
    "        while (indices[-1] - (endTrain + self.horizon)) >= 0:\n",
    "            startTest = endTrain\n",
    "            endTest = startTest + self.horizon\n",
    "            if self.horizon > 0:\n",
    "                indTest = np.hstack([indices[0:startTrain], indices[startTest:endTest]])\n",
    "            else:\n",
    "                # if self.horizon == 0 (not provided) test see extend till the end\n",
    "                indTest = np.hstack([indices[0:startTrain], indices[startTest:]])\n",
    "            # define training indexes\n",
    "            indTrain = indices[startTrain:endTrain]\n",
    "            # yield tuple of training and test indexes\n",
    "            yield indTrain, indTest\n",
    "            # update train indexes for next iteration\n",
    "            startTrain = startTrain + self.shift_step\n",
    "            endTrain = startTrain + self.train_size\n",
    "\n",
    "\n",
    "train_size_rw, period_rw, horizon_rw = 3, 2, None\n",
    "rw = RollWindow(train_size=train_size_rw, shift_step=period_rw, horizon=horizon_rw)\n",
    "\n",
    "print(f\"\\nTrain size:{train_size_rw}, Period:{period_rw}, Horizon:{horizon_rw}\\n\\n\")\n",
    "for i, (tr, tt) in enumerate(rw.split(X)):\n",
    "    # print(f\"Iteration: {i} -- [{tr[0]}, {tr[-1]}], [{tt[0]}, {tt[-1]}]\")\n",
    "    print(f\"Xtrain: {X[tr]}, Xtest: {X[tt]}\")\n",
    "    \n",
    "print(f'Number splits: {rw.get_n_splits(X)}')    \n",
    "n_splits_rw = sum(1 for _ in rw.split(X))\n",
    "print(f'Number split returned by generator: {n_splits_rw}')\n",
    "fig, ax = plt.subplots()\n",
    "_ = plot_cv_indices(rw, X, None, ax, n_splits_rw)\n"
   ]
  },
  {
   "cell_type": "markdown",
   "metadata": {},
   "source": [
    "# Rollwindow Timeseries"
   ]
  },
  {
   "cell_type": "code",
   "execution_count": 6,
   "metadata": {},
   "outputs": [],
   "source": [
    "class TimeSeriesRollWindow:\n",
    "    \"\"\" Time Series Rolling Window cross-validator\n",
    "    \n",
    "        Provides train/test indices to split data samples\n",
    "        that are observed at fixed time intervals, in train/test sets.\n",
    "        In each split, test indices must be higher than before, \n",
    "        and thus shuffling in cross validator is inappropriate.\n",
    "\n",
    "        Parameters\n",
    "        ----------\n",
    "        train_size : int, required\n",
    "            Length of training set.\n",
    "\n",
    "        shift_step : int, required\n",
    "            Number of step to shift training window at each fold.\n",
    "            If equal to training_size the resulting test sets\n",
    "            do not overlap with training, if greater \n",
    "            \n",
    "        horizon: int, required\n",
    "            Length of test set(forecasting horizon)\n",
    "        \n",
    "        Return\n",
    "        -------\n",
    "        <genarator object> providing tuples of (Train, Test) indexes\n",
    "        \n",
    "    \"\"\"\n",
    "\n",
    "    def __init__(self, train_size, shift_step, horizon):\n",
    "        self.train_size = train_size\n",
    "        self.shift_step = shift_step\n",
    "        self.horizon = horizon\n",
    "        self.n_splits = None\n",
    "\n",
    "    def get_n_splits(self, X, y=None, groups=None):\n",
    "        n_samples=len(X)\n",
    "        a = np.arange(n_samples)\n",
    "        b = np.ones(self.train_size + self.horizon)\n",
    "        shift_b = np.ones(self.shift_step)\n",
    "        nsplit = 0\n",
    "        while len(b) < len(a):\n",
    "            b = np.append(b, shift_b)\n",
    "            nsplit += 1\n",
    "        self.n_splits = nsplit\n",
    "\n",
    "        if self.n_splits > n_samples:\n",
    "            raise ValueError(\n",
    "                (\n",
    "                    \"Cannot have number of splits/folds ={0} greater\"\n",
    "                    \" than the number of samples: {1}.\"\n",
    "                ).format(self.n_splits, n_samples)\n",
    "            )\n",
    "        return self.n_splits\n",
    "\n",
    "    def split(self, X, y=None, groups=None):\n",
    "        # define number of sample\n",
    "        n_samples = len(X)\n",
    "        # create an array of indexes\n",
    "        indices = np.arange(n_samples)\n",
    "\n",
    "        # defint initial start and end for training\n",
    "        startTrain = 0\n",
    "        startTest = 0\n",
    "        endTrain = self.train_size\n",
    "        endTest = 0\n",
    "\n",
    "        # set iteration condition i.e. iterate while\n",
    "        # trainig window + horizon does not reach the end\n",
    "        # of indexes array\n",
    "        # set_trace()\n",
    "        while (indices[-1] - endTest) >= 0:  # (endTrain + self.horizon)\n",
    "            startTest = endTrain\n",
    "            endTest = startTest + self.horizon\n",
    "            # define indexes for test set\n",
    "            indTest = indices[startTest:endTest]\n",
    "            # define training indexes\n",
    "            indTrain = indices[startTrain:endTrain]\n",
    "            # yield tuple of training and test indexes\n",
    "            yield indTrain, indTest\n",
    "            # update train indexes for next iteration\n",
    "            startTrain = startTrain + self.shift_step\n",
    "            endTrain = startTrain + self.train_size\n",
    "            # check condition before next iteration\n",
    "            if (indices[-1] - (endTrain + self.horizon)) < 0:\n",
    "                break"
   ]
  },
  {
   "cell_type": "code",
   "execution_count": 9,
   "metadata": {},
   "outputs": [
    {
     "name": "stdout",
     "output_type": "stream",
     "text": [
      "\n",
      "Train size:3, Period:3, Horizon:4\n",
      "\n",
      "\n",
      "Xtrain: [1 4 7], Xtest: [10 13 16 19]\n",
      "Xtrain: [10 13 16], Xtest: [19 22 25 28]\n",
      "Xtrain: [19 22 25], Xtest: [28 31 34 37]\n",
      "Xtrain: [28 31 34], Xtest: [37 40 43 46]\n",
      "Xtrain: [37 40 43], Xtest: [46 49 52 55]\n",
      "Number of splits: 5\n",
      "Number splits returned by generator:5\n"
     ]
    },
    {
     "data": {
      "image/png": "[encoded data removed]",
      "text/plain": [
       "<Figure size 432x288 with 1 Axes>"
      ]
     },
     "metadata": {
      "needs_background": "light"
     },
     "output_type": "display_data"
    }
   ],
   "source": [
    "train_size_ts, step_ts, horizon_ts = 3, 3, 4\n",
    "\n",
    "rw_ts = TimeSeriesRollWindow(train_size=train_size_ts, shift_step=step_ts, horizon=horizon_ts)\n",
    "\n",
    "print(f\"\\nTrain size:{train_size_ts}, Period:{step_ts}, Horizon:{horizon_ts}\\n\\n\")\n",
    "\n",
    "for i, (tr, tt) in enumerate(rw_ts.split(X)):\n",
    "    print(f\"Xtrain: {X[tr]}, Xtest: {X[tt]}\")\n",
    "    \n",
    "print(f'Number of splits: {rw_ts.get_n_splits(X)}')\n",
    "\n",
    "# iterate generator to count number splits\n",
    "n_splits_ts = sum(1 for _ in rw_ts.split(X))\n",
    "print(f'Number splits returned by generator:{n_splits_ts}')\n",
    "\n",
    "fig, ax = plt.subplots()\n",
    "_ = plot_cv_indices(rw_ts, X, None, ax, n_splits_ts)\n",
    "# ax.set_title('')"
   ]
  },
  {
   "cell_type": "markdown",
   "metadata": {},
   "source": [
    "# TimeSeries Split implemented in Scikit-Learn"
   ]
  },
  {
   "cell_type": "code",
   "execution_count": null,
   "metadata": {},
   "outputs": [],
   "source": [
    "ts = TimeSeriesSplit(n_splits=10)  # , max_train_size=4)\n",
    "n_splits = sum(1 for _ in ts.split(X))\n",
    "for i, (tr, tt) in enumerate(ts.split(X)):\n",
    "    print(f\"Iteration: {i} -- [{tr[0]}, {tr[-1]}], [{tt[0]}, {tt[-1]}]\")\n",
    "\n",
    "fig, ax = plt.subplots()\n",
    "_ = plot_cv_indices(ts, X, None, ax, n_splits)"
   ]
  },
  {
   "cell_type": "markdown",
   "metadata": {},
   "source": [
    "# Time Series Cross-Validation walk forward (Medium)\n",
    "[Time Series Cross-validation — a walk forward approach in python](https://medium.com/eatpredlove/time-series-cross-validation-a-walk-forward-approach-in-python-8534dd1db51a)"
   ]
  },
  {
   "cell_type": "code",
   "execution_count": null,
   "metadata": {},
   "outputs": [],
   "source": [
    "class expanding_window(object):\n",
    "    \"\"\"\t\n",
    "    Parameters \n",
    "    ----------\n",
    "    \n",
    "    Note that if you define a horizon that is too far, \n",
    "    then subsequently the split will ignore horizon length \n",
    "    such that there is validation data left. \n",
    "    This similar to Prof Rob hyndman's TsCv \n",
    "    \n",
    "    \n",
    "    initial: int\n",
    "        initial train length \n",
    "    horizon: int \n",
    "        forecast horizon (forecast length). Default = 1\n",
    "    period: int \n",
    "        length of train data to add each iteration \n",
    "    \"\"\"\n",
    "\n",
    "    def __init__(self, initial=1, horizon=1, period=1):\n",
    "        self.initial = initial\n",
    "        self.horizon = horizon\n",
    "        self.period = period\n",
    "\n",
    "    def split(self, data):\n",
    "        \"\"\"\n",
    "        Parameters \n",
    "        ----------\n",
    "        \n",
    "        Data: Training data \n",
    "        \n",
    "        Returns \n",
    "        -------\n",
    "        train_index ,test_index: \n",
    "            index for train and valid set similar to sklearn model selection\n",
    "        \"\"\"\n",
    "        self.data = data\n",
    "        self.counter = 0  # for us to iterate and track later\n",
    "\n",
    "        data_length = data.shape[0]  # rows\n",
    "        data_index = list(np.arange(data_length))\n",
    "\n",
    "        output_train = []\n",
    "        output_test = []\n",
    "        # append initial\n",
    "        output_train.append(list(np.arange(self.initial)))\n",
    "        progress = [\n",
    "            x for x in data_index if x not in list(np.arange(self.initial))\n",
    "        ]  # indexes left to append to train\n",
    "        output_test.append(\n",
    "            [x for x in data_index if x not in output_train[self.counter]][\n",
    "                : self.horizon\n",
    "            ]\n",
    "        )\n",
    "        # clip initial indexes from progress since that is what we are left\n",
    "\n",
    "        while len(progress) != 0:\n",
    "            temp = progress[: self.period]\n",
    "            to_add = output_train[self.counter] + temp\n",
    "            # update the train index\n",
    "            output_train.append(to_add)\n",
    "            # increment counter\n",
    "            self.counter += 1\n",
    "            # then we update the test index\n",
    "\n",
    "            to_add_test = [\n",
    "                x for x in data_index if x not in output_train[self.counter]\n",
    "            ][: self.horizon]\n",
    "            output_test.append(to_add_test)\n",
    "\n",
    "            # update progress\n",
    "            progress = [x for x in data_index if x not in output_train[self.counter]]\n",
    "\n",
    "        # clip the last element of output_train and output_test\n",
    "        output_train = output_train[:-1]\n",
    "        output_test = output_test[:-1]\n",
    "\n",
    "        # mimic sklearn output\n",
    "        index_output = [(train, test) for train, test in zip(output_train, output_test)]\n",
    "\n",
    "        return index_output\n",
    "\n",
    "\n",
    "X = np.array([[1, 2], [3, 4], [1, 2], [3, 4], [1, 2], [3, 4]])\n",
    "X\n",
    "y = np.array([1, 2, 3, 4, 5, 6])\n",
    "tscv = expanding_window(initial=2, horizon=2, period=1)\n",
    "for train_index, test_index in tscv.split(X):\n",
    "    print(f\"Train indexes:{train_index}, Test indexes:{test_index}\")"
   ]
  },
  {
   "cell_type": "markdown",
   "metadata": {},
   "source": [
    "# OneStep TimeSeries CV\n",
    "From \"Hands-On Machine Learning for Algorithmic Trading\" (chapter 10)"
   ]
  },
  {
   "cell_type": "code",
   "execution_count": null,
   "metadata": {},
   "outputs": [],
   "source": [
    "class OneStepTimeSeriesSplit:\n",
    "    \"\"\"Generates tuples of train_idx, test_idx pairs\n",
    "    Assumes the index contains a level labeled 'date'\"\"\"\n",
    "\n",
    "    def __init__(self, n_splits=3, test_period_length=1, shuffle=False):\n",
    "        self.n_splits = n_splits\n",
    "        self.test_period_length = test_period_length\n",
    "        self.shuffle = shuffle\n",
    "        self.test_end = n_splits * test_period_length\n",
    "\n",
    "    @staticmethod\n",
    "    def chunks(l, chunk_size):\n",
    "        for i in range(0, len(l), chunk_size):\n",
    "            yield l[i : i + chunk_size]\n",
    "\n",
    "    def split(self, X, y=None, groups=None):\n",
    "        unique_dates = (\n",
    "            X.index.get_level_values(\"date\")\n",
    "            .unique()\n",
    "            .sort_values(ascending=False)[: self.test_end]\n",
    "        )\n",
    "\n",
    "        dates = X.reset_index()[[\"date\"]]\n",
    "        for test_date in self.chunks(unique_dates, self.test_period_length):\n",
    "            train_idx = dates[dates.date < min(test_date)].index\n",
    "            test_idx = dates[dates.date.isin(test_date)].index\n",
    "            if self.shuffle:\n",
    "                np.random.shuffle(list(train_idx))\n",
    "            yield train_idx, test_idx\n",
    "\n",
    "    def get_n_splits(self, X, y, groups=None):\n",
    "        return self.n_splits"
   ]
  }
 ],
 "metadata": {
  "kernelspec": {
   "display_name": "Python 3",
   "language": "python",
   "name": "python3"
  },
  "language_info": {
   "codemirror_mode": {
    "name": "ipython",
    "version": 3
   },
   "file_extension": ".py",
   "mimetype": "text/x-python",
   "name": "python",
   "nbconvert_exporter": "python",
   "pygments_lexer": "ipython3",
   "version": "3.7.6"
  }
 },
 "nbformat": 4,
 "nbformat_minor": 4
}
